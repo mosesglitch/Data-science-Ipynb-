{
 "cells": [
  {
   "cell_type": "markdown",
   "id": "037280c4",
   "metadata": {},
   "source": [
    "# Math probability and statistics"
   ]
  },
  {
   "cell_type": "markdown",
   "id": "48aaf931",
   "metadata": {},
   "source": [
    "### probability and inferential statistics"
   ]
  },
  {
   "cell_type": "markdown",
   "id": "477a75c1",
   "metadata": {},
   "source": [
    "*Descriptive* A description that illuminates some xtic of a numerical dataset e.g ditribution, central tendency\n",
    "*Inferential* Carve out smaller section of a dataset and try to deduce info about a larger dataset\n",
    "\n",
    "Uniform probability is when there is an equal chance of every outcome\n",
    "Random variable - measure of a trait /value that is unpredictable\n",
    "Weighted average- an avg value of a measure over a very large numbver of datapoints\n",
    "\n",
    "Mutually exclusive- only occur at a time\n",
    "\n",
    "'\n",
    "###### probability distributions\n",
    "*discrete*- random variable where values can be counted as groupings e.g color\n",
    "*contionous* random variable that assigns probabilities to a range of values e.g mpg\n",
    "\n",
    "Normal distributions(numeric continous)-bell curve [top-more likely] , [extremes-less likely]\n",
    "Binomial distibution(numeric discrete)- 2 outcomes are possible\n",
    "Categorical distributions(non numeric)- ordinal variables\n",
    "\n",
    "\n",
    "### Naive Bayes\n",
    "Predicts the likelihood that an event will occur given , given evidence defined in your data features-conditional probability_\n",
    "It is esp useful in text data\n",
    "N.B comes in three flavours:\n",
    "*MultinomialNB*Use it if your features  describe discrete frequency counts, like word counts.\n",
    "*Bernoulli NB* Use it if your features are binary.Can work for continous but bining has to take place.\n",
    "*Gaussian NB* Use it if all features are normally distributed\n",
    "[Assumptions](past conditions still hold true, predicting future conditions from past ones generate incorrect predictions when present conditions change)\n",
    "\n",
    "## Correlation\n",
    "ML method assume that your features are independent. Correlation is the extent to which variables show interdependency.\n",
    "\n",
    "#### pearson's r\n",
    "Best for dependent relationships between continous variables\n",
    "[Assumptions](Data is normally distributed)[](continous numerical variables)[](Variables are linearly related)\n",
    "Use it to id r/ships but not to rule out existence of r/ships.\n",
    "\n",
    "#### Spearmans rank correlation\n",
    "Best for determining correlation between ordinal variables\n",
    "[Assumptions](variables are ordinal)[](variable r/ship is non linear)[](non-normal distribution of data)"
   ]
  },
  {
   "cell_type": "markdown",
   "id": "111650da",
   "metadata": {},
   "source": []
  },
  {
   "cell_type": "markdown",
   "id": "44e61104",
   "metadata": {},
   "source": []
  },
  {
   "cell_type": "markdown",
   "id": "d90d612b",
   "metadata": {},
   "source": []
  },
  {
   "cell_type": "markdown",
   "id": "d97ccb53",
   "metadata": {},
   "source": []
  },
  {
   "cell_type": "markdown",
   "id": "bda5c9b5",
   "metadata": {},
   "source": []
  },
  {
   "cell_type": "markdown",
   "id": "819567dc",
   "metadata": {},
   "source": []
  },
  {
   "cell_type": "markdown",
   "id": "109349ff",
   "metadata": {},
   "source": []
  },
  {
   "cell_type": "markdown",
   "id": "133b4b5e",
   "metadata": {},
   "source": []
  }
 ],
 "metadata": {
  "kernelspec": {
   "display_name": "Python 3 (ipykernel)",
   "language": "python",
   "name": "python3"
  },
  "language_info": {
   "codemirror_mode": {
    "name": "ipython",
    "version": 3
   },
   "file_extension": ".py",
   "mimetype": "text/x-python",
   "name": "python",
   "nbconvert_exporter": "python",
   "pygments_lexer": "ipython3",
   "version": "3.9.7"
  }
 },
 "nbformat": 4,
 "nbformat_minor": 5
}
