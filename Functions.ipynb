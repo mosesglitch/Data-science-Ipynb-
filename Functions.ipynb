{
 "cells": [
  {
   "cell_type": "code",
   "execution_count": 1,
   "id": "ba0484e3",
   "metadata": {},
   "outputs": [],
   "source": [
    "import matplotlib.pyplot as plt\n",
    "%matplotlib inline  "
   ]
  },
  {
   "cell_type": "code",
   "execution_count": 2,
   "id": "d5cb12b6",
   "metadata": {},
   "outputs": [],
   "source": [
    "class Circle(object):\n",
    "    \n",
    "    # Constructor\n",
    "    def __init__(self, radius=3, color='blue'):\n",
    "        self.radius = radius\n",
    "        self.color = color \n",
    "    \n",
    "    # Method\n",
    "    def add_radius(self, r):\n",
    "        self.radius = self.radius + r\n",
    "        return(self.radius)\n",
    "    \n",
    "    # Method\n",
    "    def drawCircle(self):\n",
    "        plt.gca().add_patch(plt.Circle((0, 0), radius=self.radius, fc=self.color))\n",
    "        plt.axis('scaled')\n",
    "        plt.show() "
   ]
  },
  {
   "cell_type": "code",
   "execution_count": 25,
   "id": "8bb6ac41",
   "metadata": {},
   "outputs": [],
   "source": [
    "class Rectangle(object):\n",
    "    #constructor\n",
    "    def __init__(self, width=2,length=4,color='green'):\n",
    "        self.width=width\n",
    "        self.length=length\n",
    "        self.color=color\n",
    "    def add_length(self,l):\n",
    "        self.length=self.length+l\n",
    "        return(self.length)\n",
    "    def add_width(self,w):\n",
    "        self.width=self.width+l\n",
    "        return(self.width)"
   ]
  },
  {
   "cell_type": "code",
   "execution_count": 26,
   "id": "05c28744",
   "metadata": {},
   "outputs": [
    {
     "data": {
      "text/plain": [
       "13"
      ]
     },
     "execution_count": 26,
     "metadata": {},
     "output_type": "execute_result"
    }
   ],
   "source": [
    "first=Rectangle(4,6,'white')\n",
    "first.length\n",
    "first.add_length(7)"
   ]
  },
  {
   "cell_type": "code",
   "execution_count": 13,
   "id": "a29c120e",
   "metadata": {},
   "outputs": [
    {
     "data": {
      "text/plain": [
       "__main__.Rectangle"
      ]
     },
     "execution_count": 13,
     "metadata": {},
     "output_type": "execute_result"
    }
   ],
   "source": [
    "Rectangle"
   ]
  },
  {
   "cell_type": "code",
   "execution_count": 8,
   "id": "830b7571",
   "metadata": {},
   "outputs": [
    {
     "data": {
      "text/plain": [
       "100"
      ]
     },
     "execution_count": 8,
     "metadata": {},
     "output_type": "execute_result"
    }
   ],
   "source": [
    "RedCircle = Circle(10, 'red')\n",
    "BlueCircle.radius"
   ]
  },
  {
   "cell_type": "code",
   "execution_count": 5,
   "id": "d83ad6fa",
   "metadata": {},
   "outputs": [],
   "source": [
    "BlueCircle = Circle(radius=100)"
   ]
  },
  {
   "cell_type": "code",
   "execution_count": null,
   "id": "844fe215",
   "metadata": {},
   "outputs": [],
   "source": []
  },
  {
   "cell_type": "code",
   "execution_count": null,
   "id": "e0dd73b3",
   "metadata": {},
   "outputs": [],
   "source": []
  },
  {
   "cell_type": "code",
   "execution_count": 6,
   "id": "e52cd3c9",
   "metadata": {},
   "outputs": [
    {
     "data": {
      "image/png": "[encoded data removed]",
      "text/plain": [
       "<Figure size 432x288 with 1 Axes>"
      ]
     },
     "metadata": {
      "needs_background": "light"
     },
     "output_type": "display_data"
    }
   ],
   "source": [
    "BlueCircle.drawCircle()"
   ]
  },
  {
   "cell_type": "code",
   "execution_count": null,
   "id": "91467d9e",
   "metadata": {},
   "outputs": [
    {
     "name": "stdout",
     "output_type": "stream",
     "text": [
      "Enter the count of numbers100\n",
      "Enter an integer10\n",
      "The average is:  0.1\n"
     ]
    }
   ],
   "source": [
    "count=int(input('Enter the count of numbers'))\n",
    "i=0\n",
    "sum=0\n",
    "for i in range(count):\n",
    "    x=int(input('Enter an integer'))\n",
    "    #sum=sum+x\n",
    "    avg=x/count\n",
    "    print('The average is: ',avg)"
   ]
  },
  {
   "cell_type": "code",
   "execution_count": null,
   "id": "353b229a",
   "metadata": {},
   "outputs": [
    {
     "name": "stdout",
     "output_type": "stream",
     "text": [
      "Enter a real number10\n",
      "1.0\n",
      "Enter a real number20\n",
      "3.0\n"
     ]
    }
   ],
   "source": [
    "count=0\n",
    "sum=0\n",
    "while(count<10):\n",
    "    number=float(input('Enter a real number'))\n",
    "    count=count+1\n",
    "    sum+=number\n",
    "    avg=sum/10\n",
    "    print (avg)"
   ]
  },
  {
   "cell_type": "code",
   "execution_count": null,
   "id": "0489cc3d",
   "metadata": {},
   "outputs": [],
   "source": [
    "range"
   ]
  },
  {
   "cell_type": "code",
   "execution_count": 16,
   "id": "4702c08b",
   "metadata": {},
   "outputs": [
    {
     "data": {
      "text/plain": [
       "1"
      ]
     },
     "execution_count": 16,
     "metadata": {},
     "output_type": "execute_result"
    }
   ],
   "source": [
    "digit=111%10\n",
    "sum=sum+digit\n",
    "# num=num//10\n",
    "sum%2"
   ]
  },
  {
   "cell_type": "code",
   "execution_count": 23,
   "id": "03b1cd61",
   "metadata": {},
   "outputs": [
    {
     "name": "stdout",
     "output_type": "stream",
     "text": [
      "3\n",
      "1\n",
      "5\n",
      "9\n"
     ]
    }
   ],
   "source": [
    "numbers=[8,3,1,6,2,4,5,9]\n",
    "for i in numbers:\n",
    "#     x=i%2\n",
    "    if  i%2 == 0:\n",
    "        pass\n",
    "#         print(i)\n",
    "    else:\n",
    "        print(i)"
   ]
  },
  {
   "cell_type": "code",
   "execution_count": 28,
   "id": "2a6e1807",
   "metadata": {},
   "outputs": [
    {
     "name": "stdout",
     "output_type": "stream",
     "text": [
      "8 6\n"
     ]
    }
   ],
   "source": [
    "numbers=[8,3,1,6,2,4,5,9]\n",
    "position=0\n",
    "big=numbers[0]\n",
    "for i in range(len(numbers)):\n",
    "    if(numbers[i]<big):\n",
    "        position=i\n",
    "print(big,position)"
   ]
  },
  {
   "cell_type": "code",
   "execution_count": 38,
   "id": "f710b83b",
   "metadata": {},
   "outputs": [
    {
     "name": "stdout",
     "output_type": "stream",
     "text": [
      "[16, 10, 8]\n",
      "[18, 8, 9]\n",
      "[13, 10, 4]\n"
     ]
    }
   ],
   "source": [
    "x=[[8,5,5],[9,3,2],[4,6,3]]\n",
    "y=[[8,5,3],[9,5,7],[9,4,1]]\n",
    "z=[[0,0,0],[0,0,0],[0,0,0]]\n",
    "\n",
    "for i in range(len(x)):\n",
    "    for j in range(len(x)):\n",
    "        z[i][j]=x[i][j]+y[i][j]\n",
    "for k in z:\n",
    "    print(k)"
   ]
  },
  {
   "cell_type": "code",
   "execution_count": 44,
   "id": "c1d9f391",
   "metadata": {},
   "outputs": [
    {
     "name": "stdout",
     "output_type": "stream",
     "text": [
      "0\n",
      "0\n",
      "0\n",
      "1\n",
      "1\n",
      "1\n",
      "2\n",
      "2\n",
      "2\n"
     ]
    }
   ],
   "source": [
    "x=[[8,5,5],[9,3,2],[4,6,3]]\n",
    "y=[[8,5,3],[9,5,7],[9,4,1]]\n",
    "z=[[0,0,0],[0,0,0],[0,0,0]]\n",
    "for i in range(len(x)):\n",
    "    for j in range(len(y[0])):\n",
    "        z[i][j]=x[i][j]*y[i][j]\n",
    "        print(i)\n"
   ]
  },
  {
   "cell_type": "code",
   "execution_count": 45,
   "id": "0f1862d3",
   "metadata": {},
   "outputs": [
    {
     "name": "stdout",
     "output_type": "stream",
     "text": [
      "[64, 25, 15]\n",
      "[81, 15, 14]\n",
      "[36, 24, 3]\n"
     ]
    }
   ],
   "source": [
    "x=[[8,5,5],[9,3,2],[4,6,3]]\n",
    "y=[[8,5,3],[9,5,7],[9,4,1]]\n",
    "z=[[0,0,0],[0,0,0],[0,0,0]]\n",
    "for i in range(len(x)):\n",
    "    for j in range(len(y[0])):\n",
    "        z[i][j]=x[i][j]*y[i][j]\n",
    "for k in z:\n",
    "    print(k)\n"
   ]
  },
  {
   "cell_type": "code",
   "execution_count": 81,
   "id": "3418a37e",
   "metadata": {},
   "outputs": [
    {
     "name": "stdout",
     "output_type": "stream",
     "text": [
      "[16, 10, 8, 18, 8, 9, 13, 10, 4]\n"
     ]
    }
   ],
   "source": [
    "a=[8,5,5,9,3,2,4,6,3]\n",
    "b=[8,5,3,9,5,7,9,4,1]\n",
    "# c=list(zip(x,y))\n",
    "total=[]\n",
    "j=0\n",
    "for j in range(len(a)):\n",
    "    total.append(a[j]+b[j])\n",
    "print(total)"
   ]
  },
  {
   "cell_type": "code",
   "execution_count": 8,
   "id": "1ac994c9",
   "metadata": {},
   "outputs": [
    {
     "name": "stdout",
     "output_type": "stream",
     "text": [
      "5\n",
      "15\n",
      "25\n",
      "35\n"
     ]
    }
   ],
   "source": [
    "yy=[[0,5],[5,10],[10,15],[15,20]]\n",
    "j=[]\n",
    "for k in range(len(yy)):\n",
    "    j=yy[k][0]+yy[k][1]\n",
    "    \n",
    "    print(j)\n"
   ]
  },
  {
   "cell_type": "code",
   "execution_count": 34,
   "id": "f545ba8d",
   "metadata": {
    "scrolled": true
   },
   "outputs": [
    {
     "data": {
      "text/plain": [
       "23.4028"
      ]
     },
     "execution_count": 34,
     "metadata": {},
     "output_type": "execute_result"
    }
   ],
   "source": [
    "\n",
    "x=[2.5,7.5,12.7,17.5,22.5,27.5,32.5,37.5,42.5]\n",
    "f=[5,22,57,95,116,99,50,40,16]\n",
    "xf=[]\n",
    "for element in range(len(x)):\n",
    "    xf.append(x[element]*f[element])\n",
    "def addlist(lists):\n",
    "    j=0\n",
    "    for k in range(len(lists)):\n",
    "        j=j+lists[k]\n",
    "    return(j)\n",
    "addlist(xf)/addlist(f)       \n",
    "\n",
    "    \n"
   ]
  },
  {
   "cell_type": "markdown",
   "id": "8f0458e4",
   "metadata": {},
   "source": [
    "#  Standard Deviation"
   ]
  },
  {
   "cell_type": "code",
   "execution_count": 30,
   "id": "be07b106",
   "metadata": {},
   "outputs": [
    {
     "name": "stdout",
     "output_type": "stream",
     "text": [
      "88.4\n"
     ]
    }
   ],
   "source": [
    "x=[10,14,36,25,15]\n",
    "star=0\n",
    "for elem in range(len(x)):\n",
    "    star+=x[elem]\n",
    "meann=star/len(x)\n",
    "dev=[]\n",
    "for ss in range(len(x)):\n",
    "    dev.append(x[ss]-meann)\n",
    "sqr=[]\n",
    "for i in dev:\n",
    "    sqr.append(i**2)\n",
    "sumd=[]\n",
    "sm=0\n",
    "for sq in range(len(x)):\n",
    "    sm+=sqr[sq]\n",
    "print(sm/len(x))  "
   ]
  },
  {
   "cell_type": "code",
   "execution_count": 32,
   "id": "0d18dbab",
   "metadata": {},
   "outputs": [
    {
     "ename": "TypeError",
     "evalue": "cannot unpack non-iterable int object",
     "output_type": "error",
     "traceback": [
      "\u001b[1;31m---------------------------------------------------------------------------\u001b[0m",
      "\u001b[1;31mTypeError\u001b[0m                                 Traceback (most recent call last)",
      "\u001b[1;32m~\\AppData\\Local\\Temp/ipykernel_6928/1566595291.py\u001b[0m in \u001b[0;36m<module>\u001b[1;34m\u001b[0m\n\u001b[0;32m      5\u001b[0m \u001b[0msumd\u001b[0m\u001b[1;33m=\u001b[0m\u001b[1;33m[\u001b[0m\u001b[1;33m]\u001b[0m\u001b[1;33m\u001b[0m\u001b[1;33m\u001b[0m\u001b[0m\n\u001b[0;32m      6\u001b[0m \u001b[0msm\u001b[0m\u001b[1;33m=\u001b[0m\u001b[1;36m0\u001b[0m\u001b[1;33m\u001b[0m\u001b[1;33m\u001b[0m\u001b[0m\n\u001b[1;32m----> 7\u001b[1;33m \u001b[1;32mfor\u001b[0m \u001b[0melem\u001b[0m\u001b[1;33m,\u001b[0m\u001b[0mss\u001b[0m\u001b[1;33m,\u001b[0m\u001b[0mi\u001b[0m\u001b[1;33m,\u001b[0m\u001b[0msq\u001b[0m \u001b[1;32min\u001b[0m \u001b[0mrange\u001b[0m\u001b[1;33m(\u001b[0m\u001b[0mlen\u001b[0m\u001b[1;33m(\u001b[0m\u001b[0mx\u001b[0m\u001b[1;33m)\u001b[0m\u001b[1;33m)\u001b[0m\u001b[1;33m:\u001b[0m\u001b[1;33m\u001b[0m\u001b[1;33m\u001b[0m\u001b[0m\n\u001b[0m\u001b[0;32m      8\u001b[0m     \u001b[0mstar\u001b[0m\u001b[1;33m+=\u001b[0m\u001b[0mx\u001b[0m\u001b[1;33m[\u001b[0m\u001b[0melem\u001b[0m\u001b[1;33m]\u001b[0m\u001b[1;33m\u001b[0m\u001b[1;33m\u001b[0m\u001b[0m\n\u001b[0;32m      9\u001b[0m     \u001b[0mmeann\u001b[0m\u001b[1;33m=\u001b[0m\u001b[0mstar\u001b[0m\u001b[1;33m/\u001b[0m\u001b[0mlen\u001b[0m\u001b[1;33m(\u001b[0m\u001b[0mx\u001b[0m\u001b[1;33m)\u001b[0m\u001b[1;33m\u001b[0m\u001b[1;33m\u001b[0m\u001b[0m\n",
      "\u001b[1;31mTypeError\u001b[0m: cannot unpack non-iterable int object"
     ]
    }
   ],
   "source": [
    "ff=[10,14,36,25,15]\n",
    "star=0\n",
    "dev=[]\n",
    "sqr=[]\n",
    "sumd=[]\n",
    "sm=0\n",
    "for elem,ss,i,sq in range(len(x)):\n",
    "    star+=x[elem]\n",
    "    meann=star/len(x)\n",
    "    dev.append(x[ss]-meann)\n",
    "    sqr.append(i**2)\n",
    "    sm+=sqr[sq]\n"
   ]
  },
  {
   "cell_type": "code",
   "execution_count": 27,
   "id": "c732e79a",
   "metadata": {},
   "outputs": [
    {
     "name": "stdout",
     "output_type": "stream",
     "text": [
      "[100.0, 36.0, 256.0, 25.0, 25.0]\n"
     ]
    }
   ],
   "source": [
    "sqr=[]\n",
    "for i in dev:\n",
    "    sqr.append(i**2)\n",
    "print(sqr)"
   ]
  },
  {
   "cell_type": "code",
   "execution_count": 25,
   "id": "3325ec05",
   "metadata": {},
   "outputs": [
    {
     "data": {
      "text/plain": [
       "25.0"
      ]
     },
     "execution_count": 25,
     "metadata": {},
     "output_type": "execute_result"
    }
   ],
   "source": [
    "ii"
   ]
  },
  {
   "cell_type": "code",
   "execution_count": null,
   "id": "033f6350",
   "metadata": {},
   "outputs": [],
   "source": []
  },
  {
   "cell_type": "code",
   "execution_count": null,
   "id": "d20e2a6a",
   "metadata": {},
   "outputs": [],
   "source": []
  },
  {
   "cell_type": "code",
   "execution_count": null,
   "id": "f110d56f",
   "metadata": {},
   "outputs": [],
   "source": []
  },
  {
   "cell_type": "code",
   "execution_count": 93,
   "id": "83b0225f",
   "metadata": {},
   "outputs": [
    {
     "name": "stdout",
     "output_type": "stream",
     "text": [
      "[[101, 'jamo', 65], [102, 'noah', 75], [103, 'olive', 80], [109, 'lola', 40]]\n"
     ]
    }
   ],
   "source": [
    "codes=[101,102,103,109]\n",
    "students=['jamo','noah','olive','lola']\n",
    "grades=[65,75,80,40]\n",
    "info=[]\n",
    "for h in range(len(codes)):\n",
    "    info.append([codes[h],students[h],grades[h]])\n",
    "print(info)\n"
   ]
  },
  {
   "cell_type": "code",
   "execution_count": 98,
   "id": "9d851022",
   "metadata": {},
   "outputs": [
    {
     "data": {
      "text/plain": [
       "[4, 2, 3, 4]"
      ]
     },
     "execution_count": 98,
     "metadata": {},
     "output_type": "execute_result"
    }
   ],
   "source": [
    "l=[]\n",
    "l.append(4)\n",
    "l.extend([2,3,4])\n",
    "l"
   ]
  },
  {
   "cell_type": "markdown",
   "id": "d4a444a0",
   "metadata": {},
   "source": [
    "# Harmonic mean-->"
   ]
  },
  {
   "cell_type": "code",
   "execution_count": 1,
   "id": "ad09f3a5",
   "metadata": {},
   "outputs": [
    {
     "name": "stdout",
     "output_type": "stream",
     "text": [
      "Enter numbers: 4\n",
      "Enter numbers: 8\n",
      "Enter numbers: 16\n",
      "Enter numbers: \n",
      "The harmonic mean is:  6.857142857142857\n"
     ]
    }
   ],
   "source": [
    "def harmonic(nums):\n",
    "    \"\"\"\n",
    "    Best for calculating average speed e.g km/h\n",
    "    \"\"\"\n",
    "    pdct=[]\n",
    "    start=0\n",
    "    for nos in nums:\n",
    "        pdct.append(1/nos)\n",
    "    for k in range(len(pdct)):\n",
    "        start+=pdct[k]\n",
    "        H_mean=(len(pdct)/start)\n",
    "    return(H_mean)\n",
    "\n",
    "nums=[]\n",
    "while True:\n",
    "    jj=input('Enter numbers: ')\n",
    "    if jj=='':\n",
    "        break\n",
    "    k=int(jj)\n",
    "    nums.append(k)\n",
    "print('The harmonic mean is: ',harmonic(nums))"
   ]
  },
  {
   "cell_type": "code",
   "execution_count": 43,
   "id": "e02f8601",
   "metadata": {},
   "outputs": [
    {
     "name": "stdout",
     "output_type": "stream",
     "text": [
      "Enter numbers: 34\n",
      "Enter numbers: 45\n",
      "Enter numbers: 46\n",
      "Enter numbers: \n"
     ]
    }
   ],
   "source": [
    "x=[]\n",
    "while True:\n",
    "    jj=input('Enter numbers: ')\n",
    "    if jj=='':\n",
    "        break\n",
    "    k=int(jj)\n",
    "    x.append(k)\n"
   ]
  },
  {
   "cell_type": "code",
   "execution_count": 6,
   "id": "64e3daa9",
   "metadata": {},
   "outputs": [],
   "source": [
    "a=4"
   ]
  },
  {
   "cell_type": "code",
   "execution_count": 7,
   "id": "43f0b1fa",
   "metadata": {},
   "outputs": [
    {
     "data": {
      "text/plain": [
       "2.0"
      ]
     },
     "execution_count": 7,
     "metadata": {},
     "output_type": "execute_result"
    }
   ],
   "source": [
    "16**(1/a)"
   ]
  },
  {
   "cell_type": "code",
   "execution_count": 17,
   "id": "8e37131c",
   "metadata": {},
   "outputs": [
    {
     "name": "stdout",
     "output_type": "stream",
     "text": [
      "The Geometric mean is: 13.915788418568702\n"
     ]
    }
   ],
   "source": [
    "grate=[10,25,5,30]\n",
    "l=1\n",
    "for x in range(len(grate)):\n",
    "    l=l*grate[x]\n",
    "geom=l**(1/len(grate))\n",
    "print('The Geometric mean is:',geom)"
   ]
  },
  {
   "cell_type": "code",
   "execution_count": 3,
   "id": "4c4132ab",
   "metadata": {},
   "outputs": [
    {
     "name": "stdout",
     "output_type": "stream",
     "text": [
      "[3, 5, 8, 12, 17, 23, 30, 38, 47]\n"
     ]
    }
   ],
   "source": [
    "# print(list(trev))\n",
    "print(tcost)\n",
    "#print(mc)\n",
    "# print(qty)"
   ]
  },
  {
   "cell_type": "code",
   "execution_count": 15,
   "id": "d70534dc",
   "metadata": {},
   "outputs": [
    {
     "data": {
      "text/plain": [
       "-7"
      ]
     },
     "execution_count": 15,
     "metadata": {},
     "output_type": "execute_result"
    }
   ],
   "source": [
    "# mcc=[]\n",
    "# i=0\n",
    "# while i< len(tcost)+1:\n",
    "#     mcc.append(tcost[i]+tcost[i+1])\n",
    "mf=tcost[5]-tcost[5+1]\n",
    "mf"
   ]
  },
  {
   "cell_type": "code",
   "execution_count": 37,
   "id": "a79a7b1f",
   "metadata": {},
   "outputs": [
    {
     "data": {
      "text/plain": [
       "[3, 5, 8, 12, 17, 23, 30, 38, 47]"
      ]
     },
     "execution_count": 37,
     "metadata": {},
     "output_type": "execute_result"
    }
   ],
   "source": [
    "tcost"
   ]
  },
  {
   "cell_type": "code",
   "execution_count": 54,
   "id": "9939e328",
   "metadata": {},
   "outputs": [],
   "source": [
    "# mc=[]\n",
    "# for i in range(len(tcost)-1):\n",
    "#     mc.append(tcost[i+1]-tcost[i])\n",
    "# print(mc)\n",
    "# print(mr)\n",
    "# mrn=remove(mr[0])\n",
    "# mrn"
   ]
  },
  {
   "cell_type": "code",
   "execution_count": 4,
   "id": "86c11c08",
   "metadata": {},
   "outputs": [
    {
     "data": {
      "text/plain": [
       "range(0, 10)"
      ]
     },
     "execution_count": 4,
     "metadata": {},
     "output_type": "execute_result"
    }
   ],
   "source": [
    "range(len(tcost)+1)"
   ]
  },
  {
   "cell_type": "code",
   "execution_count": 2,
   "id": "51df758c",
   "metadata": {},
   "outputs": [
    {
     "name": "stderr",
     "output_type": "stream",
     "text": [
      "C:\\Users\\USER\\AppData\\Local\\Temp/ipykernel_6812/1678407485.py:16: RuntimeWarning: invalid value encountered in long_scalars\n",
      "  mr.append(trev[m]/qty[m])\n"
     ]
    }
   ],
   "source": [
    "import numpy as np\n",
    "trev=list(np.arange(0,54,6))\n",
    "qty=list(np.arange(9))\n",
    "tcost=[]\n",
    "tpr=[]\n",
    "kick=2\n",
    "mr=[]\n",
    "mc=[]\n",
    "\n",
    "for i in range(len(trev)):\n",
    "    kick=kick+i+1\n",
    "    tcost.append(kick)\n",
    "for pr in range(len(trev)):\n",
    "    tpr.append(trev[pr]-tcost[pr])\n",
    "for m in range(len(trev)):\n",
    "    mr.append(trev[m]/qty[m])\n",
    "for n in range(len(tcost)-1):\n",
    "    mc.append(tcost[n+1]-tcost[n]) "
   ]
  },
  {
   "cell_type": "code",
   "execution_count": 62,
   "id": "8d866b91",
   "metadata": {},
   "outputs": [
    {
     "name": "stdout",
     "output_type": "stream",
     "text": [
      "<zip object at 0x000001CD03BEFA40>\n"
     ]
    }
   ],
   "source": [
    "import numpy as np\n",
    "# mr.remove(np.nan)\n",
    "# del mr[0]\n",
    "CiP=[]\n",
    "for x in range(len(mc)):\n",
    "        CiP.append(mr[x]-mc[x])\n",
    "print(zip(CiP,qty))\n",
    "        \n",
    "        \n",
    " "
   ]
  },
  {
   "cell_type": "code",
   "execution_count": 76,
   "id": "8f22a0bf",
   "metadata": {},
   "outputs": [
    {
     "name": "stdout",
     "output_type": "stream",
     "text": [
      "<zip object at 0x000001CD03BF0640>\n",
      "1 4.0\n",
      "2 3.0\n",
      "3 2.0\n",
      "4 1.0\n",
      "5 0.0\n",
      "6 -1.0\n",
      "7 -2.0\n",
      "8 -3.0\n"
     ]
    }
   ],
   "source": [
    "# i=6\n",
    "# while i<=9:\n",
    "#     print(i)\n",
    "#     i+=1\n",
    "# qty.remove(0)\n",
    "zipp=zip(qty,CiP)\n",
    "print(zipp)\n",
    "for x,y in zip(qty,CiP):\n",
    "    print(x,y)"
   ]
  },
  {
   "cell_type": "code",
   "execution_count": 25,
   "id": "486f5dcb",
   "metadata": {},
   "outputs": [
    {
     "data": {
      "text/plain": [
       "Text(0.5, 0, 'Quantity')"
      ]
     },
     "execution_count": 25,
     "metadata": {},
     "output_type": "execute_result"
    },
    {
     "data": {
      "image/png": "[encoded data removed]",
      "text/plain": [
       "<Figure size 432x288 with 1 Axes>"
      ]
     },
     "metadata": {
      "needs_background": "light"
     },
     "output_type": "display_data"
    }
   ],
   "source": [
    "plt.plot(qty,tpr)\n",
    "# plt.plot(qty,tcost)\n",
    "# plt.plot(qty,trev)\n",
    "plt.ylabel('profit')\n",
    "plt.xlabel('Quantity')"
   ]
  },
  {
   "cell_type": "code",
   "execution_count": 27,
   "id": "26bde4bf",
   "metadata": {},
   "outputs": [
    {
     "name": "stdout",
     "output_type": "stream",
     "text": [
      "[6, 12, 18, 24, 30, 36, 42, 48]\n"
     ]
    }
   ],
   "source": [
    "Q=[1,2,3,4,5,6,7,8]\n",
    "P=[6,6,6,6,6,6,6,6]\n",
    "TR=[]\n",
    "for x in range(len(Q)):\n",
    "    TR.append(Q[x]*P[x])\n",
    "print(TR)"
   ]
  },
  {
   "cell_type": "code",
   "execution_count": 59,
   "id": "e59c67d9",
   "metadata": {},
   "outputs": [
    {
     "data": {
      "text/plain": [
       "[-3, 1, 4, 6, 7, 7, 6, 4, 1]"
      ]
     },
     "execution_count": 59,
     "metadata": {},
     "output_type": "execute_result"
    }
   ],
   "source": [
    "import matplotlib.pyplot as plt\n",
    "tpr"
   ]
  },
  {
   "cell_type": "code",
   "execution_count": null,
   "id": "4e3560da",
   "metadata": {},
   "outputs": [],
   "source": []
  },
  {
   "cell_type": "code",
   "execution_count": 37,
   "id": "823c4753",
   "metadata": {},
   "outputs": [
    {
     "name": "stderr",
     "output_type": "stream",
     "text": [
      "C:\\Users\\USER\\AppData\\Local\\Temp/ipykernel_6812/1609545490.py:13: RuntimeWarning: divide by zero encountered in double_scalars\n",
      "  afc.append(fc[y]/qty[y])\n",
      "C:\\Users\\USER\\AppData\\Local\\Temp/ipykernel_6812/1609545490.py:15: RuntimeWarning: invalid value encountered in double_scalars\n",
      "  avc.append(vc[z]/qty[z])\n"
     ]
    }
   ],
   "source": [
    "import pandas as pd\n",
    "qty=[0,1,2,3,4,5,6,7,8,9,10]\n",
    "tc=[3,3.3,3.8,4.5,5.4,6.5,7.8,9.3,11,12.9,15]\n",
    "fc=list(np.linspace(3,3,len(qty)))\n",
    "vc=[]\n",
    "afc=[]\n",
    "avc=[]\n",
    "atc=[]\n",
    "mcost=[0,]\n",
    "for x in range(len(tc)):\n",
    "    vc.append(tc[x]-fc[x])\n",
    "for y in range(len(tc)):\n",
    "    afc.append(fc[y]/qty[y])\n",
    "for z in range(len(tc)):\n",
    "    avc.append(vc[z]/qty[z])\n",
    "for mc in range(len(tc)):\n",
    "    atc.append(afc[mc]+avc[mc])\n",
    "for m in range(len(tc)-1):\n",
    "    mcost.append(tc[m+1]-tc[m])"
   ]
  },
  {
   "cell_type": "code",
   "execution_count": 64,
   "id": "5a8032e3",
   "metadata": {
    "scrolled": true
   },
   "outputs": [
    {
     "data": {
      "text/html": [
       "<div>\n",
       "<style scoped>\n",
       "    .dataframe tbody tr th:only-of-type {\n",
       "        vertical-align: middle;\n",
       "    }\n",
       "\n",
       "    .dataframe tbody tr th {\n",
       "        vertical-align: top;\n",
       "    }\n",
       "\n",
       "    .dataframe thead th {\n",
       "        text-align: right;\n",
       "    }\n",
       "</style>\n",
       "<table border=\"1\" class=\"dataframe\">\n",
       "  <thead>\n",
       "    <tr style=\"text-align: right;\">\n",
       "      <th></th>\n",
       "      <th>QTY</th>\n",
       "      <th>TC</th>\n",
       "      <th>VC</th>\n",
       "      <th>AFC</th>\n",
       "      <th>AVC</th>\n",
       "      <th>ATC</th>\n",
       "      <th>MC</th>\n",
       "    </tr>\n",
       "  </thead>\n",
       "  <tbody>\n",
       "    <tr>\n",
       "      <th>0</th>\n",
       "      <td>0</td>\n",
       "      <td>3.0</td>\n",
       "      <td>0.0</td>\n",
       "      <td>inf</td>\n",
       "      <td>NaN</td>\n",
       "      <td>NaN</td>\n",
       "      <td>0.0</td>\n",
       "    </tr>\n",
       "    <tr>\n",
       "      <th>1</th>\n",
       "      <td>1</td>\n",
       "      <td>3.3</td>\n",
       "      <td>0.3</td>\n",
       "      <td>3.00</td>\n",
       "      <td>0.3</td>\n",
       "      <td>3.30</td>\n",
       "      <td>0.3</td>\n",
       "    </tr>\n",
       "    <tr>\n",
       "      <th>2</th>\n",
       "      <td>2</td>\n",
       "      <td>3.8</td>\n",
       "      <td>0.8</td>\n",
       "      <td>1.50</td>\n",
       "      <td>0.4</td>\n",
       "      <td>1.90</td>\n",
       "      <td>0.5</td>\n",
       "    </tr>\n",
       "    <tr>\n",
       "      <th>3</th>\n",
       "      <td>3</td>\n",
       "      <td>4.5</td>\n",
       "      <td>1.5</td>\n",
       "      <td>1.00</td>\n",
       "      <td>0.5</td>\n",
       "      <td>1.50</td>\n",
       "      <td>0.7</td>\n",
       "    </tr>\n",
       "    <tr>\n",
       "      <th>4</th>\n",
       "      <td>4</td>\n",
       "      <td>5.4</td>\n",
       "      <td>2.4</td>\n",
       "      <td>0.75</td>\n",
       "      <td>0.6</td>\n",
       "      <td>1.35</td>\n",
       "      <td>0.9</td>\n",
       "    </tr>\n",
       "    <tr>\n",
       "      <th>5</th>\n",
       "      <td>5</td>\n",
       "      <td>6.5</td>\n",
       "      <td>3.5</td>\n",
       "      <td>0.60</td>\n",
       "      <td>0.7</td>\n",
       "      <td>1.30</td>\n",
       "      <td>1.1</td>\n",
       "    </tr>\n",
       "    <tr>\n",
       "      <th>6</th>\n",
       "      <td>6</td>\n",
       "      <td>7.8</td>\n",
       "      <td>4.8</td>\n",
       "      <td>0.50</td>\n",
       "      <td>0.8</td>\n",
       "      <td>1.30</td>\n",
       "      <td>1.3</td>\n",
       "    </tr>\n",
       "    <tr>\n",
       "      <th>7</th>\n",
       "      <td>7</td>\n",
       "      <td>9.3</td>\n",
       "      <td>6.3</td>\n",
       "      <td>0.43</td>\n",
       "      <td>0.9</td>\n",
       "      <td>1.33</td>\n",
       "      <td>1.5</td>\n",
       "    </tr>\n",
       "    <tr>\n",
       "      <th>8</th>\n",
       "      <td>8</td>\n",
       "      <td>11.0</td>\n",
       "      <td>8.0</td>\n",
       "      <td>0.38</td>\n",
       "      <td>1.0</td>\n",
       "      <td>1.38</td>\n",
       "      <td>1.7</td>\n",
       "    </tr>\n",
       "    <tr>\n",
       "      <th>9</th>\n",
       "      <td>9</td>\n",
       "      <td>12.9</td>\n",
       "      <td>9.9</td>\n",
       "      <td>0.33</td>\n",
       "      <td>1.1</td>\n",
       "      <td>1.43</td>\n",
       "      <td>1.9</td>\n",
       "    </tr>\n",
       "    <tr>\n",
       "      <th>10</th>\n",
       "      <td>10</td>\n",
       "      <td>15.0</td>\n",
       "      <td>12.0</td>\n",
       "      <td>0.30</td>\n",
       "      <td>1.2</td>\n",
       "      <td>1.50</td>\n",
       "      <td>2.1</td>\n",
       "    </tr>\n",
       "  </tbody>\n",
       "</table>\n",
       "</div>"
      ],
      "text/plain": [
       "    QTY    TC    VC   AFC  AVC   ATC   MC\n",
       "0     0   3.0   0.0   inf  NaN   NaN  0.0\n",
       "1     1   3.3   0.3  3.00  0.3  3.30  0.3\n",
       "2     2   3.8   0.8  1.50  0.4  1.90  0.5\n",
       "3     3   4.5   1.5  1.00  0.5  1.50  0.7\n",
       "4     4   5.4   2.4  0.75  0.6  1.35  0.9\n",
       "5     5   6.5   3.5  0.60  0.7  1.30  1.1\n",
       "6     6   7.8   4.8  0.50  0.8  1.30  1.3\n",
       "7     7   9.3   6.3  0.43  0.9  1.33  1.5\n",
       "8     8  11.0   8.0  0.38  1.0  1.38  1.7\n",
       "9     9  12.9   9.9  0.33  1.1  1.43  1.9\n",
       "10   10  15.0  12.0  0.30  1.2  1.50  2.1"
      ]
     },
     "execution_count": 64,
     "metadata": {},
     "output_type": "execute_result"
    }
   ],
   "source": [
    "cost_fn={'QTY':qty,'TC':tc,'VC':vc,'AFC':[round(x,2) for x in afc],'AVC':avc,'ATC':[round(value,2) for value in atc],'MC':mcost}\n",
    "cost=pd.DataFrame(cost_fn)\n",
    "cost"
   ]
  },
  {
   "cell_type": "code",
   "execution_count": 76,
   "id": "45acca83",
   "metadata": {},
   "outputs": [
    {
     "data": {
      "image/png": "[encoded data removed]",
      "text/plain": [
       "<Figure size 432x288 with 1 Axes>"
      ]
     },
     "metadata": {
      "needs_background": "light"
     },
     "output_type": "display_data"
    }
   ],
   "source": [
    "ax=plt.gca()\n",
    "cost.plot(kind='line',x='QTY',y='MC',ax=ax)\n",
    "cost.plot(kind='line',x='QTY',y='AVC',ax=ax)\n",
    "cost.plot(kind='line',x='QTY',y='ATC',ax=ax)\n",
    "cost.plot(kind='line',x='QTY',y='AFC',ax=ax)\n",
    "#cost.plot(kind='line',x='quantity',y='AVC')\n",
    "plt.show()"
   ]
  },
  {
   "cell_type": "code",
   "execution_count": 11,
   "id": "6bd96dcf",
   "metadata": {},
   "outputs": [
    {
     "data": {
      "text/plain": [
       "[3.0, 3.0, 3.0, 3.0, 3.0, 3.0, 3.0, 3.0, 3.0, 3.0, 3.0]"
      ]
     },
     "execution_count": 11,
     "metadata": {},
     "output_type": "execute_result"
    }
   ],
   "source": [
    "list(np.linspace(3,3,len(qty)))"
   ]
  },
  {
   "cell_type": "code",
   "execution_count": null,
   "id": "aa0aac8f",
   "metadata": {},
   "outputs": [],
   "source": []
  }
 ],
 "metadata": {
  "kernelspec": {
   "display_name": "Python 3 (ipykernel)",
   "language": "python",
   "name": "python3"
  },
  "language_info": {
   "codemirror_mode": {
    "name": "ipython",
    "version": 3
   },
   "file_extension": ".py",
   "mimetype": "text/x-python",
   "name": "python",
   "nbconvert_exporter": "python",
   "pygments_lexer": "ipython3",
   "version": "3.9.7"
  }
 },
 "nbformat": 4,
 "nbformat_minor": 5
}
